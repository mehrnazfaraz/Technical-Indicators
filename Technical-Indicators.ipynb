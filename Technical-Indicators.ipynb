{
 "cells": [
  {
   "cell_type": "markdown",
   "metadata": {
    "colab_type": "text",
    "id": "IWsK4nJStaQY"
   },
   "source": [
    "# Create Indicators"
   ]
  },
  {
   "cell_type": "markdown",
   "metadata": {
    "colab_type": "text",
    "id": "IwIyfo9ytaQb"
   },
   "source": [
    "### SMA"
   ]
  },
  {
   "cell_type": "code",
   "execution_count": 0,
   "metadata": {
    "colab": {},
    "colab_type": "code",
    "id": "JRYZbwfWtaQd"
   },
   "outputs": [],
   "source": [
    "data['SMA'] = data['Adj Close'].rolling(window = 5).mean()"
   ]
  },
  {
   "cell_type": "markdown",
   "metadata": {
    "colab_type": "text",
    "id": "XcwSSukmtaQj"
   },
   "source": [
    "### EMA"
   ]
  },
  {
   "cell_type": "code",
   "execution_count": 0,
   "metadata": {
    "colab": {},
    "colab_type": "code",
    "id": "Ozu5LXd_taQl"
   },
   "outputs": [],
   "source": [
    "def ema(close, periods): \n",
    "    # Minimum number of observations in window required to have a value (otherwise result is NA): min_periods\n",
    "    return close.ewm(span = periods, min_periods = periods).mean() "
   ]
  },
  {
   "cell_type": "markdown",
   "metadata": {
    "colab_type": "text",
    "id": "SrqBAK1ttaQv"
   },
   "source": [
    "### MACD"
   ]
  },
  {
   "cell_type": "code",
   "execution_count": 0,
   "metadata": {
    "colab": {},
    "colab_type": "code",
    "id": "5cKYPGgXtaQx"
   },
   "outputs": [],
   "source": [
    "def macd(close, n_fast, n_slow): \n",
    "    ema_fast = ema(close, n_fast) #12\n",
    "    ema_slow = ema(close, n_slow) #26\n",
    "    return ema_fast - ema_slow\n",
    "\n",
    "data['MACD'] = macd(data['Adj Close'], 12, 26)\n",
    "data['MACD_Line'] = ema(data['Adj Close'], 9)"
   ]
  },
  {
   "cell_type": "markdown",
   "metadata": {
    "colab_type": "text",
    "id": "FmMDT0wRtaQ-"
   },
   "source": [
    "### RSI"
   ]
  },
  {
   "cell_type": "code",
   "execution_count": 0,
   "metadata": {
    "colab": {},
    "colab_type": "code",
    "id": "--DuQjsmtaRA"
   },
   "outputs": [],
   "source": [
    "def rsi(close, n):\n",
    "    up = []\n",
    "    dn = []\n",
    "    rsi_list = []\n",
    "    diff = close.diff(1) \n",
    "    for i in range(0,len(close)):\n",
    "        if diff[i] >0:\n",
    "            up.append(diff[i])\n",
    "            dn.append(0)\n",
    "        elif diff[i] <0:\n",
    "            dn.append(-diff[i]) # We put the value of average_loss or dn in the rsi, rsi:(0,100)\n",
    "            up.append(0)\n",
    "    up = pd.Series(up)\n",
    "    dn = pd.Series(dn)\n",
    "\n",
    "    ema_up = ema(up, n)\n",
    "    ema_dn = ema(dn, n)\n",
    "    \n",
    "    ema_up = np.array(ema_up)\n",
    "    ema_dn = np.array(ema_dn)\n",
    "    \n",
    "    \n",
    "    for j in range(0,len(ema_up)):\n",
    "        rsi_list.append((100 * ema_up[j]) / (ema_up[j] + ema_dn[j]))\n",
    "          \n",
    "    return pd.Series(rsi_list)\n",
    "\n",
    "    \n",
    "data['RSI'] = rsi(data['Adj Close'], 14)"
   ]
  },
  {
   "cell_type": "markdown",
   "metadata": {
    "colab_type": "text",
    "id": "Fm15FSGEtaRF"
   },
   "source": [
    "### Stochastic Oscillator"
   ]
  },
  {
   "cell_type": "code",
   "execution_count": 0,
   "metadata": {
    "colab": {},
    "colab_type": "code",
    "id": "4rdbBCLutaRH"
   },
   "outputs": [],
   "source": [
    "def so(high, low, close, n):\n",
    "    low_n = low.rolling(window = n).min() # minimum of low price within 14 days\n",
    "    high_n = high.rolling(window = n).max() # maximum of high price within 14 days\n",
    "    return 100*(close - low_n)/(high_n - low_n)\n",
    "\n",
    "data['SO'] = so(data['High'], data['Low'], data['Adj Close'], 14)\n",
    "\n",
    "#Create the \"%D\" column in the DataFrame\n",
    "data['%D'] = data['SO'].rolling(window = 3).mean()"
   ]
  },
  {
   "cell_type": "markdown",
   "metadata": {
    "colab_type": "text",
    "id": "6-bB399StaRZ"
   },
   "source": [
    "### Bollinger Bands"
   ]
  },
  {
   "cell_type": "code",
   "execution_count": 0,
   "metadata": {
    "colab": {},
    "colab_type": "code",
    "id": "YeWz-aBStaRa"
   },
   "outputs": [],
   "source": [
    "def bb(close, n, ndev):\n",
    "    mavg = close.rolling(window = n).mean()\n",
    "    mstd = close.rolling(window = n).std()\n",
    "    hband = mavg + ndev * mstd\n",
    "    lband = mavg - ndev * mstd\n",
    "    return mavg, hband, lband\n",
    "\n",
    "data['BB_mavg'], data['BB_H'], data['BB_L'] = bb(data['Adj Close'], n = 20, ndev = 2)"
   ]
  },
  {
   "cell_type": "markdown",
   "metadata": {
    "colab_type": "text",
    "id": "aL3HSl-4taRk"
   },
   "source": [
    "### Williams %R"
   ]
  },
  {
   "cell_type": "code",
   "execution_count": 0,
   "metadata": {
    "colab": {},
    "colab_type": "code",
    "id": "e1GoqNYataRk"
   },
   "outputs": [],
   "source": [
    "def wr(close, high, low, n):\n",
    "    high_n = high.rolling(window = n).max() # maximum of high price within 14 days\n",
    "    low_n = low.rolling(window = n).min() # minimum of low price within 14 days\n",
    "    return -100*(high_n - close)/(high_n - low_n)\n",
    "\n",
    "data['%R'] = wr(data['Adj Close'], data['High'], data['Low'], 14)"
   ]
  },
  {
   "cell_type": "markdown",
   "metadata": {
    "colab_type": "text",
    "id": "rpmZnZnftaRp"
   },
   "source": [
    "### PROC"
   ]
  },
  {
   "cell_type": "code",
   "execution_count": 0,
   "metadata": {
    "colab": {},
    "colab_type": "code",
    "id": "Vcp7gTbVtaRs"
   },
   "outputs": [],
   "source": [
    "def proc(close, n):\n",
    "    close_pre = close.shift(n)\n",
    "    proc = 100*(close - close_pre)/close_pre\n",
    "    return proc\n",
    "\n",
    "data['PROC'] = proc(data['Adj Close'], 12)"
   ]
  },
  {
   "cell_type": "markdown",
   "metadata": {
    "colab_type": "text",
    "id": "JbITH_71taRw"
   },
   "source": [
    "### Log Return"
   ]
  },
  {
   "cell_type": "code",
   "execution_count": 0,
   "metadata": {
    "colab": {},
    "colab_type": "code",
    "id": "AQgyGvegtaRx"
   },
   "outputs": [],
   "source": [
    "data['Log'] = np.log(data['Adj Close']) - np.log(data['Adj Close'].shift(1))"
   ]
  },
  {
   "cell_type": "markdown",
   "metadata": {
    "colab_type": "text",
    "id": "fBsIt321uEN8"
   },
   "source": [
    "### OBV"
   ]
  },
  {
   "cell_type": "code",
   "execution_count": 0,
   "metadata": {
    "colab": {},
    "colab_type": "code",
    "id": "GY8C8F_BuEN_"
   },
   "outputs": [],
   "source": [
    "def obv(close, volume):\n",
    "    obv_pre = volume[0]\n",
    "    obv = [obv_pre]\n",
    "    for i in range(1,len(data)):\n",
    "        if close[i] > close[i-1]:\n",
    "            obv_pre = obv_pre + volume[i]\n",
    "            obv.append(obv_pre)\n",
    "        elif close[i] == close[i-1]:\n",
    "            obv_pre = obv_pre + 0\n",
    "            obv.append(obv_pre)\n",
    "        elif close[i] < close[i-1]:\n",
    "            obv_pre = obv_pre - volume[i]\n",
    "            obv.append(obv_pre)\n",
    "\n",
    "    return pd.Series(obv)\n",
    "\n",
    "data['OBV'] = obv(data['Adj Close'], data['Volume'])"
   ]
  }
 ],
 "metadata": {
  "accelerator": "GPU",
  "colab": {
   "collapsed_sections": [],
   "name": "LSTM_AAPL.ipynb",
   "provenance": []
  },
  "kernelspec": {
   "display_name": "Python 3",
   "language": "python",
   "name": "python3"
  },
  "language_info": {
   "codemirror_mode": {
    "name": "ipython",
    "version": 3
   },
   "file_extension": ".py",
   "mimetype": "text/x-python",
   "name": "python",
   "nbconvert_exporter": "python",
   "pygments_lexer": "ipython3",
   "version": "3.7.4"
  }
 },
 "nbformat": 4,
 "nbformat_minor": 1
}
